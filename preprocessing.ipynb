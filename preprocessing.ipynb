{
 "cells": [
  {
   "cell_type": "code",
   "execution_count": 1,
   "id": "a9040192",
   "metadata": {},
   "outputs": [],
   "source": [
    "import numpy as np\n",
    "import pandas as pd"
   ]
  },
  {
   "cell_type": "code",
   "execution_count": 6,
   "id": "294562e3",
   "metadata": {},
   "outputs": [
    {
     "name": "stderr",
     "output_type": "stream",
     "text": [
      "C:\\Users\\karsa\\AppData\\Local\\Temp\\ipykernel_5492\\1033310574.py:1: DtypeWarning: Columns (6) have mixed types. Specify dtype option on import or set low_memory=False.\n",
      "  details = pd.read_csv(r\"C:\\Users\\karsa\\Downloads\\nba\\games_details.csv\")\n"
     ]
    }
   ],
   "source": [
    "details = pd.read_csv(r\"C:\\Users\\karsa\\Downloads\\nba\\games_details.csv\")\n",
    "ranking = pd.read_csv(r\"C:\\Users\\karsa\\Downloads\\nba\\ranking.csv\")\n",
    "teams = pd.read_csv(r\"C:\\Users\\karsa\\Downloads\\nba\\teams.csv\")\n",
    "games = pd.read_csv(r\"C:\\Users\\karsa\\Downloads\\nba\\games.csv\")"
   ]
  },
  {
   "cell_type": "code",
   "execution_count": 8,
   "id": "a3ee6cc7",
   "metadata": {},
   "outputs": [
    {
     "data": {
      "text/plain": [
       "22010    12480\n",
       "22019    12240\n",
       "22018    10470\n",
       "22017    10380\n",
       "22021    10380\n",
       "22004    10260\n",
       "22009    10230\n",
       "22007    10230\n",
       "22013    10200\n",
       "22006    10200\n",
       "22012    10200\n",
       "22016    10200\n",
       "22015    10200\n",
       "22014    10170\n",
       "22003    10150\n",
       "22005    10140\n",
       "22008    10140\n",
       "22020     8573\n",
       "22011     8550\n",
       "22022     1980\n",
       "12019      900\n",
       "12006      780\n",
       "12009      780\n",
       "12015      750\n",
       "12012      750\n",
       "12014      720\n",
       "12007      720\n",
       "12016      720\n",
       "12013      720\n",
       "12008      690\n",
       "12010      690\n",
       "12003      667\n",
       "12005      660\n",
       "12004      630\n",
       "12022      540\n",
       "12018      540\n",
       "12017      510\n",
       "12021      480\n",
       "12020      336\n",
       "12011      270\n",
       "22002      116\n",
       "Name: SEASON_ID, dtype: int64"
      ]
     },
     "execution_count": 8,
     "metadata": {},
     "output_type": "execute_result"
    }
   ],
   "source": [
    "ranking[\"SEASON_ID\"].value_counts()"
   ]
  },
  {
   "cell_type": "code",
   "execution_count": 7,
   "id": "14220cbc",
   "metadata": {},
   "outputs": [
    {
     "name": "stderr",
     "output_type": "stream",
     "text": [
      "C:\\Users\\karsa\\AppData\\Local\\Temp\\ipykernel_5492\\1697158769.py:3: FutureWarning: Indexing with multiple keys (implicitly converted to a tuple of keys) will be deprecated, use a list instead.\n",
      "  temp = temp.groupby(['TEAM_ID','SEASON_ID'])['G','W'].max()\n"
     ]
    },
    {
     "data": {
      "text/html": [
       "<div>\n",
       "<style scoped>\n",
       "    .dataframe tbody tr th:only-of-type {\n",
       "        vertical-align: middle;\n",
       "    }\n",
       "\n",
       "    .dataframe tbody tr th {\n",
       "        vertical-align: top;\n",
       "    }\n",
       "\n",
       "    .dataframe thead th {\n",
       "        text-align: right;\n",
       "    }\n",
       "</style>\n",
       "<table border=\"1\" class=\"dataframe\">\n",
       "  <thead>\n",
       "    <tr style=\"text-align: right;\">\n",
       "      <th></th>\n",
       "      <th>TEAM_ID</th>\n",
       "      <th>SEASON_ID</th>\n",
       "      <th>W</th>\n",
       "    </tr>\n",
       "  </thead>\n",
       "  <tbody>\n",
       "    <tr>\n",
       "      <th>0</th>\n",
       "      <td>1610612737</td>\n",
       "      <td>2002</td>\n",
       "      <td>35</td>\n",
       "    </tr>\n",
       "    <tr>\n",
       "      <th>1</th>\n",
       "      <td>1610612737</td>\n",
       "      <td>2003</td>\n",
       "      <td>28</td>\n",
       "    </tr>\n",
       "    <tr>\n",
       "      <th>2</th>\n",
       "      <td>1610612737</td>\n",
       "      <td>2004</td>\n",
       "      <td>13</td>\n",
       "    </tr>\n",
       "    <tr>\n",
       "      <th>3</th>\n",
       "      <td>1610612737</td>\n",
       "      <td>2005</td>\n",
       "      <td>26</td>\n",
       "    </tr>\n",
       "    <tr>\n",
       "      <th>4</th>\n",
       "      <td>1610612737</td>\n",
       "      <td>2006</td>\n",
       "      <td>30</td>\n",
       "    </tr>\n",
       "    <tr>\n",
       "      <th>...</th>\n",
       "      <td>...</td>\n",
       "      <td>...</td>\n",
       "      <td>...</td>\n",
       "    </tr>\n",
       "    <tr>\n",
       "      <th>501</th>\n",
       "      <td>1610612766</td>\n",
       "      <td>2015</td>\n",
       "      <td>48</td>\n",
       "    </tr>\n",
       "    <tr>\n",
       "      <th>502</th>\n",
       "      <td>1610612766</td>\n",
       "      <td>2016</td>\n",
       "      <td>36</td>\n",
       "    </tr>\n",
       "    <tr>\n",
       "      <th>503</th>\n",
       "      <td>1610612766</td>\n",
       "      <td>2017</td>\n",
       "      <td>36</td>\n",
       "    </tr>\n",
       "    <tr>\n",
       "      <th>504</th>\n",
       "      <td>1610612766</td>\n",
       "      <td>2018</td>\n",
       "      <td>39</td>\n",
       "    </tr>\n",
       "    <tr>\n",
       "      <th>505</th>\n",
       "      <td>1610612766</td>\n",
       "      <td>2021</td>\n",
       "      <td>43</td>\n",
       "    </tr>\n",
       "  </tbody>\n",
       "</table>\n",
       "<p>506 rows × 3 columns</p>\n",
       "</div>"
      ],
      "text/plain": [
       "        TEAM_ID  SEASON_ID   W\n",
       "0    1610612737       2002  35\n",
       "1    1610612737       2003  28\n",
       "2    1610612737       2004  13\n",
       "3    1610612737       2005  26\n",
       "4    1610612737       2006  30\n",
       "..          ...        ...  ..\n",
       "501  1610612766       2015  48\n",
       "502  1610612766       2016  36\n",
       "503  1610612766       2017  36\n",
       "504  1610612766       2018  39\n",
       "505  1610612766       2021  43\n",
       "\n",
       "[506 rows x 3 columns]"
      ]
     },
     "execution_count": 7,
     "metadata": {},
     "output_type": "execute_result"
    }
   ],
   "source": [
    "def get_labels(ranking):\n",
    "    temp = ranking.copy(deep=False)\n",
    "    temp = temp.groupby(['TEAM_ID','SEASON_ID'])['G','W'].max()\n",
    "    temp = pd.DataFrame(temp)\n",
    "    temp.reset_index(inplace=True)\n",
    "    drops = []\n",
    "    for i in range(len(temp)):\n",
    "        if temp.iloc[i,1] / 10000 > 2:\n",
    "            temp.iloc[i,1] = temp.iloc[i,1] % 10000\n",
    "        else:\n",
    "            drops.append(i)\n",
    "            continue;\n",
    "        if (temp.iloc[i,2] != 82):\n",
    "            drops.append(i)\n",
    "    for i in range(len(drops)):\n",
    "        temp.drop([drops[i]], inplace=True)\n",
    "    temp.reset_index(inplace=True)\n",
    "    temp.drop(columns=['index'], inplace=True)\n",
    "    temp.drop(columns=['G'], inplace=True)\n",
    "    return temp\n",
    "\n",
    "labels = get_labels(ranking)\n",
    "labels"
   ]
  }
 ],
 "metadata": {
  "kernelspec": {
   "display_name": "Python 3 (ipykernel)",
   "language": "python",
   "name": "python3"
  },
  "language_info": {
   "codemirror_mode": {
    "name": "ipython",
    "version": 3
   },
   "file_extension": ".py",
   "mimetype": "text/x-python",
   "name": "python",
   "nbconvert_exporter": "python",
   "pygments_lexer": "ipython3",
   "version": "3.9.13"
  }
 },
 "nbformat": 4,
 "nbformat_minor": 5
}
